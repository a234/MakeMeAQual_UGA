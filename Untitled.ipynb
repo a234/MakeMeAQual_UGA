{
 "cells": [
  {
   "cell_type": "code",
   "execution_count": 11,
   "metadata": {},
   "outputs": [
    {
     "name": "stderr",
     "output_type": "stream",
     "text": [
      "/home/zack/gitclones/sage/local/lib/python3.7/site-packages/ipykernel_launcher.py:4: YAMLLoadWarning: calling yaml.load() without Loader=... is deprecated, as the default Loader is unsafe. Please read https://msg.pyyaml.org/load for full details.\n",
      "  after removing the cwd from sys.path.\n"
     ]
    }
   ],
   "source": [
    "import yaml\n",
    "\n",
    "with open(r'combined_questions.yaml') as file:\n",
    "    qs = yaml.load(file)"
   ]
  },
  {
   "cell_type": "code",
   "execution_count": 12,
   "metadata": {},
   "outputs": [
    {
     "data": {
      "text/plain": [
       "{'year': 2019,\n",
       " 'season': 'Fall',\n",
       " 'number': 1,\n",
       " 'exam': 'Algebra',\n",
       " 'university': 'UGA',\n",
       " 'tags': ['Groups', 'Conjugacy'],\n",
       " 'question': 'Let $G$ be a finite group with $n$ distinct conjugacy classes.\\nLet $g_1 \\\\cdots g_n$ be representatives of the conjugacy classes of $G$.\\n\\nProve that if $g_i g_j = g_j g_i$ for all $i, j$ then $G$ is abelian.\\n'}"
      ]
     },
     "execution_count": 12,
     "metadata": {},
     "output_type": "execute_result"
    }
   ],
   "source": [
    "qs[0]"
   ]
  },
  {
   "cell_type": "code",
   "execution_count": 16,
   "metadata": {},
   "outputs": [],
   "source": [
    "Algebra_qs = [q for q in qs if q['exam'] == \"Algebra\"]\n",
    "Complex_qs = [q for q in qs if q['exam'] == \"Complex_Analysis\"]\n",
    "Real_qs = [q for q in qs if q['exam'] == \"Real Analysis\"]\n",
    "Topology_qs = [q for q in qs if q['exam'] == \"Topology\"]"
   ]
  },
  {
   "cell_type": "code",
   "execution_count": 8,
   "metadata": {},
   "outputs": [
    {
     "data": {
      "text/plain": [
       "dict_keys(['year', 'season', 'number', 'exam', 'university', 'tags', 'question'])"
      ]
     },
     "execution_count": 8,
     "metadata": {},
     "output_type": "execute_result"
    }
   ],
   "source": [
    "out_str = \"\"\"\n",
    "---\n",
    "title: Question Database\n",
    "---\n",
    "\"\"\"\n",
    "\n",
    "out_str += f\"# Algebra\\n\"\n",
    "out_str += [f\"\\n# Question {i+1}\\n\\n\" + q['question'] for i, q in enumerate(Algebra_qs)].join(\"\\n\")"
   ]
  },
  {
   "cell_type": "code",
   "execution_count": null,
   "metadata": {},
   "outputs": [],
   "source": []
  }
 ],
 "metadata": {
  "kernelspec": {
   "display_name": "Python 3",
   "language": "python",
   "name": "python3"
  },
  "language_info": {
   "codemirror_mode": {
    "name": "ipython",
    "version": 3
   },
   "file_extension": ".py",
   "mimetype": "text/x-python",
   "name": "python",
   "nbconvert_exporter": "python",
   "pygments_lexer": "ipython3",
   "version": "3.7.3"
  }
 },
 "nbformat": 4,
 "nbformat_minor": 2
}
